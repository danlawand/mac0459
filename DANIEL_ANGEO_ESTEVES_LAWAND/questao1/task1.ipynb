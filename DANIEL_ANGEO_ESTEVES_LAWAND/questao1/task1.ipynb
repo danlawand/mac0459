{
  "cells": [
    {
      "cell_type": "markdown",
      "metadata": {
        "id": "7oy7aEbAMtKr"
      },
      "source": [
        "# Prova MAC0459 - 2021\n",
        "**Aluno:** Daniel Angelo Esteves Lawand - **NUSP:** 10297693  \n",
        "**Professor:** Roberto Hirata"
      ]
    },
    {
      "cell_type": "markdown",
      "metadata": {
        "id": "GC-nfVqLM9dZ"
      },
      "source": [
        "## 1.0 - Questão 1\n",
        "Tomaremos o [conjunto de dados de acidentes aéreos no Brasil](https://dados.gov.br/dataset/ocorrencias-aeronauticas-da-aviacao-civil-brasileira), para responder as seguintes perguntas:\n",
        "\n",
        "1.   Qual o ano com maior quantidade de ocorrências?  \n",
        "2.   Qual o mês do ano com maior quantidade de ocorrências? \n",
        "3.   Qual Unidade Federativa teve o maior número de ocorrências?  \n",
        "4.   Qual município teve o maior núemro de ocorrências?  \n",
        "5.   Qual tipo de ocorrência é a mais frequente?\n"
      ]
    },
    {
      "cell_type": "markdown",
      "metadata": {
        "id": "Cq6znE1JNk15"
      },
      "source": [
        "### 1.1 - Tarefa 1 EDA\n",
        "\n",
        "O dataset observado engloba as planilhas \"ocorrencia.csv\" e \"ocorrencia_tipo.csv\". Sendo que estas são suficientes para responder as perguntas elaboradas. A planilha \"ocorrencia.csv\" aponta diversos dados sobre as ocorrências aéreas, porém usaremos apenas a data e a localização da ocorrência. A planilha \"ocorrencia_tipo.csv\" é uma planilha mais enxuta, porém possui dados descritivos sobre o tipo de ocorrência, e estes dados são os que usaremos na nossa análise.\n",
        "\n",
        "\n",
        "\n",
        "\n"
      ]
    },
    {
      "cell_type": "code",
      "execution_count": null,
      "metadata": {
        "id": "11NWwWl7MsDr"
      },
      "outputs": [],
      "source": [
        "# Importação de bibliotecas\n",
        "import matplotlib.pyplot as plt\n",
        "import pandas as pd\n",
        "import datetime\n",
        "import seaborn as sns  "
      ]
    },
    {
      "cell_type": "code",
      "execution_count": null,
      "metadata": {
        "colab": {
          "base_uri": "https://localhost:8080/",
          "height": 73,
          "resources": {
            "http://localhost:8080/nbextensions/google.colab/files.js": {
              "data": "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",
              "headers": [
                [
                  "content-type",
                  "application/javascript"
                ]
              ],
              "ok": true,
              "status": 200,
              "status_text": ""
            }
          }
        },
        "id": "6vAyHLSoROeg",
        "outputId": "ebccf2b1-0fc8-4729-f1ff-4673010bfcf7"
      },
      "outputs": [],
      "source": [
        "# Caso esteja usando o Colaboratory do Google\n",
        "from google.colab import files\n",
        "uploaded = files.upload()"
      ]
    },
    {
      "cell_type": "code",
      "execution_count": null,
      "metadata": {
        "id": "CDT96Z9lPh8j"
      },
      "outputs": [],
      "source": [
        "# Criação dos dataframes\n",
        "df_ocorrencias = pd.read_csv(\"ocorrencia.csv\", sep=\";\")\n",
        "df_ocorrencias_tipo = pd.read_csv(\"ocorrencia_tipo.csv\", sep=\";\")\n",
        "\n",
        "# Alteração do tipo do dado, de string para datetime\n",
        "df_ocorrencias[\"ocorrencia_dia\"] = pd.to_datetime(df_ocorrencias[\"ocorrencia_dia\"])"
      ]
    },
    {
      "cell_type": "code",
      "execution_count": null,
      "metadata": {
        "colab": {
          "base_uri": "https://localhost:8080/",
          "height": 288
        },
        "id": "QdhACZOCc83t",
        "outputId": "fae23626-adba-4684-f5eb-c590a8caa9e2"
      },
      "outputs": [],
      "source": [
        "# Mostra de como são os dados da plainha \"ocorrencia.csv\"\n",
        "df_ocorrencias.head()"
      ]
    },
    {
      "cell_type": "code",
      "execution_count": null,
      "metadata": {
        "colab": {
          "base_uri": "https://localhost:8080/",
          "height": 206
        },
        "id": "wtNxcOh1dFSb",
        "outputId": "5301fed2-905c-4a03-dac8-380ad838c13a"
      },
      "outputs": [],
      "source": [
        "# Mostra de como são os dados da plainha \"ocorrencia_tipo.csv\"\n",
        "df_ocorrencias_tipo.head()"
      ]
    },
    {
      "cell_type": "code",
      "execution_count": null,
      "metadata": {
        "colab": {
          "base_uri": "https://localhost:8080/"
        },
        "id": "xmcKPivvRqkT",
        "outputId": "4902ba9c-8b8b-41d8-f3c1-d62e1a302315"
      },
      "outputs": [],
      "source": [
        "# LISTA 1.1.0 - Contagem da quantidade de ocorrências por ano\n",
        "df_ocorrencias[\"year\"] = pd.DatetimeIndex(df_ocorrencias[\"ocorrencia_dia\"]).year\n",
        "df_ocorrencias[\"year\"].value_counts()"
      ]
    },
    {
      "cell_type": "code",
      "execution_count": null,
      "metadata": {
        "colab": {
          "base_uri": "https://localhost:8080/"
        },
        "id": "5GR7J0IdXncT",
        "outputId": "6fa2a1b8-768e-478f-9d11-0f9744f083e5"
      },
      "outputs": [],
      "source": [
        "# LISTA 1.1.1 - Contagem da quantidade de ocorrências por mês\n",
        "df_ocorrencias[\"month\"] = pd.DatetimeIndex(df_ocorrencias[\"ocorrencia_dia\"]).month\n",
        "df_ocorrencias[\"month\"].value_counts()"
      ]
    },
    {
      "cell_type": "code",
      "execution_count": null,
      "metadata": {
        "colab": {
          "base_uri": "https://localhost:8080/",
          "height": 948
        },
        "id": "zpnzJ_vpTeVt",
        "outputId": "81f8b0b3-8e5a-48e0-c026-4fc788c6a6f2"
      },
      "outputs": [],
      "source": [
        "# Plotagem do gráfico da quantidade de ocorrências por ano\n",
        "sns.countplot(x='year',data=df_ocorrencias).set_title(\"1.1.0 - Número de ocorrências por ano\")  \n",
        "plt.show() "
      ]
    },
    {
      "cell_type": "code",
      "execution_count": null,
      "metadata": {
        "colab": {
          "base_uri": "https://localhost:8080/",
          "height": 948
        },
        "id": "EwhK7TPHYQds",
        "outputId": "be5e5575-7f1f-4d15-8550-26cc1ebbed8a"
      },
      "outputs": [],
      "source": [
        "# Plotagem do gráfico da quantidade de ocorrências por mês\n",
        "sns.countplot(x='month',data=df_ocorrencias).set_title(\"1.1.1 - Soma do número de ocorrências por mês\")  \n",
        "plt.show() "
      ]
    },
    {
      "cell_type": "code",
      "execution_count": null,
      "metadata": {
        "colab": {
          "base_uri": "https://localhost:8080/"
        },
        "id": "yZx2xdnXZ8jP",
        "outputId": "0f7b1c56-c403-4e8d-9716-dd547f1b2487"
      },
      "outputs": [],
      "source": [
        "# LISTA 1.1.2 - Contagem da quantidade de ocorrências por Unidade Federativa\n",
        "df_ocorrencias[\"ocorrencia_uf\"].value_counts(dropna=False)"
      ]
    },
    {
      "cell_type": "code",
      "execution_count": null,
      "metadata": {
        "colab": {
          "base_uri": "https://localhost:8080/"
        },
        "id": "sTOcfzmvawp1",
        "outputId": "bbd3ef3c-9aaa-4043-f9e2-23d0a3054d10"
      },
      "outputs": [],
      "source": [
        "# LISTA 1.1.3 - Contagem da quantidade de ocorrências por cidade\n",
        "df_ocorrencias[\"ocorrencia_cidade\"].value_counts()"
      ]
    },
    {
      "cell_type": "code",
      "execution_count": null,
      "metadata": {
        "colab": {
          "base_uri": "https://localhost:8080/"
        },
        "id": "iYiVmhQPYj4u",
        "outputId": "37e3e382-8adc-4a75-d288-cd72153131f6"
      },
      "outputs": [],
      "source": [
        "# LISTA 1.1.4 - Contagem da quantidade de ocorrências por cada tipo de ocorrência\n",
        "df_ocorrencias_tipo[\"ocorrencia_tipo\"].value_counts()"
      ]
    },
    {
      "cell_type": "markdown",
      "metadata": {},
      "source": [
        "#### Pergunta 1: Qual o ano com maior quantidade de ocorrências?  \n",
        "Observando a LISTA 1.1.0, podemos perceber que o ano de mais ocorrências aéreas no dataset é o ano de 2013, com 654 ocorrências.\n"
      ]
    },
    {
      "cell_type": "markdown",
      "metadata": {
        "id": "9W06hOfMXpxa"
      },
      "source": [
        "#### Pergunta 2: Qual o mês do ano com maior quantidade de ocorrências?\n",
        "Observando a LISTA 1.1.1, podemos perceber que o mês de mais ocorrências aéreas no dataset é o mês de Março, com 579 ocorrências."
      ]
    },
    {
      "cell_type": "markdown",
      "metadata": {
        "id": "cK6V-sVNaU3Y"
      },
      "source": [
        "#### Pergunta 3: Qual Unidade Federativa teve o maior número de ocorrências?\n",
        "Observando a LISTA 1.1.2, podemos perceber que a Unidade Federativa com mais ocorrências aéreas no dataset é o estado de São Paulo, com 1454 ocorrências."
      ]
    },
    {
      "cell_type": "markdown",
      "metadata": {
        "id": "yKvFEA3aamf7"
      },
      "source": [
        "#### Pergunta 4: Qual município teve o maior núemro de ocorrências? \n",
        "Observando a LISTA 1.1.3, podemos perceber que a cidade com mais ocorrências aéreas no dataset é o município do Rio de Janeiro, com 331 ocorrências."
      ]
    },
    {
      "cell_type": "markdown",
      "metadata": {
        "id": "kS30YjpJaTXu"
      },
      "source": [
        "#### Pergunta 5: Qual tipo de ocorrência é a mais frequente?\n",
        "Observando a LISTA 1.1.4, podemos perceber que o tipo de ocorrência mais frequente é a de \"FALHA DO MOTOR EM VOO\", com frequência de 781."
      ]
    },
    {
      "cell_type": "markdown",
      "metadata": {},
      "source": [
        "### Estratégia\n",
        "A ideia é construir dois dataframes com pandas, cada qual correspondendo a uma das tabelas que usaremos. Introduziremos duas novas colunas no dataframe df_ocorrencias, uma indicando o mês e a outra o ano da ocorrência, para manusear melhor os dados. Após isso, iremos utilizar o método value_counts(), para adiquirir o valor da frequência de incidentes aéreos por atributo selecionado. Após fazer isso, podemos fazer o plot de gráficos. Alguns gráficos não foram gerados, pois não fazia sentido colocá-los.\n"
      ]
    },
    {
      "cell_type": "markdown",
      "metadata": {},
      "source": []
    }
  ],
  "metadata": {
    "colab": {
      "name": "mac0459.ipynb",
      "provenance": []
    },
    "kernelspec": {
      "display_name": "Python 3",
      "name": "python3"
    },
    "language_info": {
      "name": "python"
    }
  },
  "nbformat": 4,
  "nbformat_minor": 0
}
